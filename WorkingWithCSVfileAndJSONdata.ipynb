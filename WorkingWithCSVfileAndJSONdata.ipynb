{
 "cells": [
  {
   "cell_type": "code",
   "execution_count": 27,
   "id": "8935ce64",
   "metadata": {},
   "outputs": [
    {
     "name": "stdout",
     "output_type": "stream",
     "text": [
      "[['4/5/2015 13:34', 'Apples', '73'], ['4/5/2015 3:41', 'Cherries', '85'], ['4/6/2015 12:46', 'Pears', '14'], ['4/8/2015 8:59', 'Oranges', '52'], ['4/10/2015 2:07', 'Apples', '152'], ['4/10/2015 18:10', 'Bananas', '23'], ['4/10/2015 2:40', 'Strawberries', '98']]\n"
     ]
    }
   ],
   "source": [
    "import csv\n",
    "examplefile = open('example.csv')\n",
    "exampleReader = csv.reader(examplefile)\n",
    "exampleData = list(exampleReader)\n",
    "print(exampleData)"
   ]
  },
  {
   "cell_type": "code",
   "execution_count": 3,
   "id": "8a34721e",
   "metadata": {},
   "outputs": [
    {
     "name": "stdout",
     "output_type": "stream",
     "text": [
      "4/5/2015 13:34\n",
      "Apples\n",
      "73\n"
     ]
    }
   ],
   "source": [
    "print(exampleData[0][0])\n",
    "print(exampleData[0][1])\n",
    "print(exampleData[0][2])"
   ]
  },
  {
   "cell_type": "code",
   "execution_count": 13,
   "id": "b151431c",
   "metadata": {},
   "outputs": [
    {
     "name": "stdout",
     "output_type": "stream",
     "text": [
      "Row #1 --- ['4/5/2015 13:34', 'Apples', '73']\n",
      "Row #2 --- ['4/5/2015 3:41', 'Cherries', '85']\n",
      "Row #3 --- ['4/6/2015 12:46', 'Pears', '14']\n",
      "Row #4 --- ['4/8/2015 8:59', 'Oranges', '52']\n",
      "Row #5 --- ['4/10/2015 2:07', 'Apples', '152']\n",
      "Row #6 --- ['4/10/2015 18:10', 'Bananas', '23']\n",
      "Row #7 --- ['4/10/2015 2:40', 'Strawberries', '98']\n"
     ]
    }
   ],
   "source": [
    "import csv\n",
    "examplefile = open('example.csv')\n",
    "exampleReader = csv.reader(examplefile)\n",
    "for row in exampleReader:\n",
    "        print('Row #' + str(exampleReader.line_num) + ' --- ' + str(row))"
   ]
  },
  {
   "cell_type": "code",
   "execution_count": 15,
   "id": "e949861b",
   "metadata": {},
   "outputs": [],
   "source": [
    "import csv\n",
    "outputfile = open('output.csv',\"w\",newline='')\n",
    "outputWriter = csv.writer(outputfile)\n",
    "#outputWriter.writerow(['spam', 'eggs', 'bacon', 'ham'])\n",
    "#outputWriter.writerow(['Hello, world!', 'eggs', 'bacon', 'ham'])\n",
    "#outputWriter.writerow([1, 2, 3.141592, 4])\n",
    "outputWriter.writerows([['spam', 'eggs', 'bacon', 'ham'],['Hello, world!', 'eggs', 'bacon', 'ham'],[1, 2, 3.141592, 4]])\n",
    "outputfile.close()"
   ]
  },
  {
   "cell_type": "code",
   "execution_count": 24,
   "id": "b0fb6c49",
   "metadata": {},
   "outputs": [],
   "source": [
    "#delimiter and lineterminator\n",
    "outputfile = open('output2.tsv',\"w\",newline='')\n",
    "outputWriter = csv.writer(outputfile,delimiter='\\t',lineterminator='\\n\\n')\n",
    "outputWriter.writerows([['spam', 'eggs', 'bacon', 'ham'],['Hello, world!', 'eggs', 'bacon', 'ham'],[1, 2, 3.141592, 4]])\n",
    "outputfile.close()"
   ]
  },
  {
   "cell_type": "code",
   "execution_count": null,
   "id": "d95974ca",
   "metadata": {},
   "outputs": [
    {
     "name": "stdout",
     "output_type": "stream",
     "text": [
      "Timestamp Fruit Quantity\n",
      "4/5/2014 13:34 Apples 73\n",
      "4/5/2014 3:41 Cherries 85\n",
      "4/6/2014 12:46 Pears 14\n",
      "4/8/2014 8:59 Oranges 52\n",
      "4/10/2014 2:07 Apples 152\n",
      "4/10/2014 18:10 Bananas 23\n",
      "4/10/2014 2:40 Strawberries 98\n"
     ]
    }
   ],
   "source": [
    "#DictReader and Dictwriter\n",
    "\"\"\"\n",
    "import csv\n",
    "examplefile = open('exampleWithHeader.csv')\n",
    "exampleDictReader = csv.DictReader(examplefile)\n",
    "for row in exampleDictReader:\n",
    "    print(row['Timestamp'], row['Fruit'], row['Quantity'])\n",
    "\"\"\"\n",
    "#the below one is used when the file has no headers\n",
    "import csv\n",
    "examplefile = open('exampleWithHeader.csv')\n",
    "exampleDictReader = csv.DictReader(examplefile, ['time','name','amnt'])\n",
    "for row in exampleDictReader:\n",
    "    print(row['time'], row['name'], row['amnt'])"
   ]
  },
  {
   "cell_type": "code",
   "execution_count": 25,
   "id": "40872d9b",
   "metadata": {},
   "outputs": [],
   "source": [
    "outputfile = open('output3.csv',\"w\",newline='')\n",
    "outputDictWriter = csv.DictWriter(outputfile,['Name','Pet','Phone'])\n",
    "outputDictWriter.writeheader()\n",
    "outputDictWriter.writerow({'Name': 'Alice', 'Pet': 'cat', 'Phone': '555-1234'})\n",
    "outputDictWriter.writerow({'Name': 'Bob', 'Phone': '555-9999'})\n",
    "outputDictWriter.writerow({'Phone': '555-5555', 'Name': 'Carol', 'Pet':'dog'})\n",
    "outputfile.close()"
   ]
  },
  {
   "cell_type": "code",
   "execution_count": 31,
   "id": "4a06cb8f",
   "metadata": {},
   "outputs": [
    {
     "name": "stdout",
     "output_type": "stream",
     "text": [
      "{\"name\": \"Zophie\", \"isCat\": true, \"miceCaught\": 0,\"felineIQ\": null}\n",
      "<class 'str'>\n",
      "{'name': 'Zophie', 'isCat': True, 'miceCaught': 0, 'felineIQ': None}\n",
      "<class 'dict'>\n",
      "{\"name\": \"Zophie\", \"isCat\": true, \"miceCaught\": 0, \"felineIQ\": null}\n",
      "<class 'str'>\n"
     ]
    }
   ],
   "source": [
    "#Reading JSON with the loads() Function\n",
    "\n",
    "stringOfJsonData = '{\"name\": \"Zophie\", \"isCat\": true, \"miceCaught\": 0,\"felineIQ\": null}'\n",
    "print(stringOfJsonData)\n",
    "print(type(stringOfJsonData))\n",
    "\n",
    "import json\n",
    "jasonDataAsPythonValue = json.loads(stringOfJsonData)\n",
    "print(jasonDataAsPythonValue)\n",
    "print(type(jasonDataAsPythonValue))\n",
    "\n",
    "pythonDataAsJsonValue = json.dumps(jasonDataAsPythonValue)\n",
    "print(pythonDataAsJsonValue)\n",
    "print(type(pythonDataAsJsonValue))"
   ]
  },
  {
   "cell_type": "code",
   "execution_count": null,
   "id": "61bd3dd6",
   "metadata": {},
   "outputs": [
    {
     "name": "stdout",
     "output_type": "stream",
     "text": [
      "28.6517178\n",
      "28.6517178\n"
     ]
    }
   ],
   "source": [
    "# to get the lat and lon from the API https://openweathermap.org/api/geocoding-api\n",
    "import requests\n",
    "city = 'Delhi'\n",
    "appidd = '9c389ed16fa2e66d7ef43a8550d1bb0c'\n",
    "url = 'http://api.openweathermap.org/geo/1.0/direct?q=%s&limit=5&appid=%s' % (city,appidd)\n",
    "response = requests.get(url)\n",
    "response.raise_for_status()\n",
    "\n",
    "locationData = json.loads(response.text)\n",
    "print(locationData[0]['lat'])\n",
    "print(locationData[0]['lat'])"
   ]
  }
 ],
 "metadata": {
  "kernelspec": {
   "display_name": "Python 3",
   "language": "python",
   "name": "python3"
  },
  "language_info": {
   "codemirror_mode": {
    "name": "ipython",
    "version": 3
   },
   "file_extension": ".py",
   "mimetype": "text/x-python",
   "name": "python",
   "nbconvert_exporter": "python",
   "pygments_lexer": "ipython3",
   "version": "3.11.5"
  }
 },
 "nbformat": 4,
 "nbformat_minor": 5
}
